{
 "cells": [
  {
   "cell_type": "markdown",
   "metadata": {},
   "source": [
    "# Dash Cytoscape\n"
   ]
  },
  {
   "cell_type": "markdown",
   "metadata": {},
   "source": [
    "*Released on February 5th, 2019***\n",
    "\n",
    "*Dash Cytoscape is a graph visualization component for creating easily customizable, high-performance, interactive, and web-based networks. It extends and renders [Cytoscape.js](https://js.cytoscape.org/), and offers deep integration with Dash layouts and callbacks, enabling the creation of powerful networks in conjunction with the rich collection of Dash components, as well as established computational biology and network science libraries such as Biopython and networkX.*\n",
    "\n",
    "*-- xhlulu and the Dash Team*"
   ]
  },
  {
   "cell_type": "markdown",
   "metadata": {},
   "source": [
    "*2019年2月5日リリース***\n",
    "\n",
    "*Dash Cytoscapeは、簡単にカスタマイズ可能な、ハイパフォーマンスで、インタラクティブな、Webベースのネットワークを作成するためのグラフ可視化コンポーネントです。 [Cytoscape.js](https://js.cytoscape.org/)を拡張およびレンダリングし、Dashのレイアウトおよびコールバックとの緊密な統合を提供し、Dashコンポーネントの豊富なコレクションやBiopythonやnetworkXなどの確立された計算生物学およびネットワークサイエンスライブラリと組み合わせて強力なネットワークを作成できます。*\n",
    "\n",
    "*-- xhlulu と Dash チーム*"
   ]
  },
  {
   "cell_type": "markdown",
   "metadata": {},
   "source": [
    "## Quickstart\n",
    "## クイックスタート\n",
    "\n",
    "```\n",
    "pip install jupyterlab\n",
    "pip install jupyter-dash\n",
    "pip install dash-cytoscape\n",
    "pip install pandas\n",
    "```"
   ]
  },
  {
   "cell_type": "code",
   "execution_count": 7,
   "metadata": {},
   "outputs": [],
   "source": [
    "from jupyter_dash import JupyterDash"
   ]
  },
  {
   "cell_type": "code",
   "execution_count": 8,
   "metadata": {},
   "outputs": [],
   "source": [
    "app = JupyterDash()"
   ]
  },
  {
   "cell_type": "code",
   "execution_count": 9,
   "metadata": {},
   "outputs": [],
   "source": [
    "import dash\n",
    "import dash_cytoscape as cyto\n",
    "import dash_html_components as html\n",
    "\n",
    "app.layout = html.Div([\n",
    "    cyto.Cytoscape(\n",
    "        id='cytoscape-two-nodes',\n",
    "        layout={'name': 'preset'},\n",
    "        style={'width': '100%', 'height': '400px'},\n",
    "        elements=[\n",
    "            {'data': {'id': 'one', 'label': 'Node 1'}, 'position': {'x': 75, 'y': 75}},\n",
    "            {'data': {'id': 'two', 'label': 'Node 2'}, 'position': {'x': 200, 'y': 200}},\n",
    "            {'data': {'source': 'one', 'target': 'two'}}\n",
    "        ]\n",
    "    )\n",
    "])"
   ]
  },
  {
   "cell_type": "code",
   "execution_count": 10,
   "metadata": {},
   "outputs": [
    {
     "data": {
      "text/html": [
       "\n",
       "        <iframe\n",
       "            width=\"800\"\n",
       "            height=\"650\"\n",
       "            src=\"http://127.0.0.1:8050/\"\n",
       "            frameborder=\"0\"\n",
       "            allowfullscreen\n",
       "        ></iframe>\n",
       "        "
      ],
      "text/plain": [
       "<IPython.lib.display.IFrame at 0x7f839c8cec40>"
      ]
     },
     "metadata": {},
     "output_type": "display_data"
    }
   ],
   "source": [
    "app.run_server(mode='inline')"
   ]
  },
  {
   "cell_type": "markdown",
   "metadata": {},
   "source": [
    "*Dash Cytoscape graphs are interactive! Scroll to zoom and drag on the canvas to move the entire graph around. You can move nodes by dragging it, or by clicking, holding, and moving your mouse to the desired location (and click again to release).*\n",
    "\n",
    "*This also work in mobile! Tap-and-hold on a node to move it, or on the canvas to move the entire graph. Pinch your fingers outwards to zoom in, or pinch them together to zoom out.*"
   ]
  },
  {
   "cell_type": "markdown",
   "metadata": {},
   "source": [
    "*Dash Cytoscape のグラフはインタラクティブです! スクロールしてズームしたり、キャンバス上でドラッグしたりしてグラフ全体を動かせます。ノードをドラッグしたり、クリックしてつかんでマウスを動かすことで目的の位置に動かせます（もう一度クリックすると解放します）。*\n",
    "\n",
    "*これはモバイル機器でも機能します！ ノードをタップアンドホールドして動かすか、キャンバスを押し続けてグラフ全体を動かします。 指を外側につまんでズームインするか、指でつまんでズームアウトします。*"
   ]
  },
  {
   "cell_type": "code",
   "execution_count": null,
   "metadata": {},
   "outputs": [],
   "source": []
  }
 ],
 "metadata": {
  "kernelspec": {
   "display_name": "Python 3",
   "language": "python",
   "name": "python3"
  },
  "language_info": {
   "codemirror_mode": {
    "name": "ipython",
    "version": 3
   },
   "file_extension": ".py",
   "mimetype": "text/x-python",
   "name": "python",
   "nbconvert_exporter": "python",
   "pygments_lexer": "ipython3",
   "version": "3.8.2"
  }
 },
 "nbformat": 4,
 "nbformat_minor": 4
}
